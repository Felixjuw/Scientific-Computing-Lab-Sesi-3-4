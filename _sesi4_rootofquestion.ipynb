{
  "nbformat": 4,
  "nbformat_minor": 0,
  "metadata": {
    "colab": {
      "provenance": [],
      "authorship_tag": "ABX9TyPExHR/ju08LfcQAU0NmG1v",
      "include_colab_link": true
    },
    "kernelspec": {
      "name": "python3",
      "display_name": "Python 3"
    },
    "language_info": {
      "name": "python"
    }
  },
  "cells": [
    {
      "cell_type": "markdown",
      "metadata": {
        "id": "view-in-github",
        "colab_type": "text"
      },
      "source": [
        "<a href=\"https://colab.research.google.com/github/Felixjuw/Scientific-Computing-Lab-Sesi-3-4/blob/master/_sesi4_rootofquestion.ipynb\" target=\"_parent\"><img src=\"https://colab.research.google.com/assets/colab-badge.svg\" alt=\"Open In Colab\"/></a>"
      ]
    },
    {
      "cell_type": "code",
      "execution_count": null,
      "metadata": {
        "id": "QFrW439UfIeE"
      },
      "outputs": [],
      "source": [
        "import numpy as np\n",
        "def my_bisection(f,a,b,tol):\n",
        "  #approximates a root,R,of bounded\n",
        "  #by a and b to within tolerance\n",
        "  #|f(m)|<tol with m the midpoint\n",
        "  #between a and b Recursive implementation\n",
        "  \n",
        "  #check if a and b bound a root\n",
        "  if np.sign(f(a))==np.sign(f(b)):\n",
        "    raise Exception(\n",
        "        \"The scalars a and b do not bound a root\")\n",
        "\n",
        "  #get midpoint      \n",
        "  m=(a+b)/2\n",
        "\n",
        "  if np.abs(f(m))<tol:  \n",
        "    #stopping condition, report m as root\n",
        "    return m\n",
        "  elif np.sign(f(a))==np.sign(f(m)):\n",
        "    #case where m is an improvement on a\n",
        "    #Make recursive call with a=m\n",
        "    return my_bisection(f,b,m,tol)\n",
        "  elif np.sign(f(b))==np.sign(f(m)):\n",
        "    #case where m is an improvement on b\n",
        "    #Make recursive call with a=m\n",
        "    return my_bisection(f,a,m,tol)"
      ]
    },
    {
      "cell_type": "code",
      "source": [
        "f=lambda x:x**2-2\n",
        "\n",
        "r1=my_bisection(f,-1,3,0.1)\n",
        "print(\"r1=\",r1)\n",
        "r01=my_bisection(f,0,4,0.01)\n",
        "#hasil dari masukkan a dan b ke dalam persamaan harus  memiliki plus atau minus yang berlawanan tidak boleh sama apabila sama akan error\n",
        "print(\"r01=\",r01)\n",
        "print(\"f(r1)=\",f(r1))\n",
        "print(\"f(r01)=\",f(r01))"
      ],
      "metadata": {
        "colab": {
          "base_uri": "https://localhost:8080/"
        },
        "id": "nGeskALtijiq",
        "outputId": "077c6aae-6e4b-435a-ae8c-f06463306239"
      },
      "execution_count": null,
      "outputs": [
        {
          "output_type": "stream",
          "name": "stdout",
          "text": [
            "r1= 1.4375\n",
            "r01= 1.4140625\n",
            "f(r1)= 0.06640625\n",
            "f(r01)= -0.00042724609375\n"
          ]
        }
      ]
    },
    {
      "cell_type": "markdown",
      "source": [
        "Newton raphson"
      ],
      "metadata": {
        "id": "SfiBd1PKmqgZ"
      }
    },
    {
      "cell_type": "code",
      "source": [
        "import numpy as np \n",
        "f=lambda x :x**2-2\n",
        "f_prime=lambda x:2*x\n",
        "newton_raphson=1.4-(f(1.4))/(f_prime(1.4))\n",
        "\n",
        "print(\"newton_raphson =\",newton_raphson)\n",
        "print(\"sqrt(2)=\",np.sqrt(2))\n"
      ],
      "metadata": {
        "colab": {
          "base_uri": "https://localhost:8080/"
        },
        "id": "0Srtvx8wmXwE",
        "outputId": "231d48c0-f8fc-4f4a-ebaf-0837443efa29"
      },
      "execution_count": null,
      "outputs": [
        {
          "output_type": "stream",
          "name": "stdout",
          "text": [
            "newton_raphson = 1.4142857142857144\n",
            "sqrt(2)= 1.4142135623730951\n"
          ]
        }
      ]
    },
    {
      "cell_type": "code",
      "source": [
        "def my_newton(f,df,x0,tol):\n",
        "  #output is estimation of the root of f\n",
        "  #using the Newton Raphson Method\n",
        "  #recursive implementation\n",
        "  if abs(f(x0))<tol:\n",
        "    return x0\n",
        "  else:\n",
        "    return my_newton(f,df,x0-f(x0)/df(x0),tol)\n",
        "    "
      ],
      "metadata": {
        "id": "4ciUTAu-n-BL"
      },
      "execution_count": null,
      "outputs": []
    },
    {
      "cell_type": "code",
      "source": [
        "estimate=my_newton(f,f_prime,1.5,1e-6)\n",
        "print(\"estimate =\",estimate)\n",
        "print(\"sqrt(2)=\",np.sqrt(2))"
      ],
      "metadata": {
        "colab": {
          "base_uri": "https://localhost:8080/"
        },
        "id": "z5uBWim6sfDB",
        "outputId": "c5e614cd-c04a-4d9c-926d-0dd28f6f6908"
      },
      "execution_count": null,
      "outputs": [
        {
          "output_type": "stream",
          "name": "stdout",
          "text": [
            "estimate = 1.4142135623746899\n",
            "sqrt(2)= 1.4142135623730951\n"
          ]
        }
      ]
    }
  ]
}